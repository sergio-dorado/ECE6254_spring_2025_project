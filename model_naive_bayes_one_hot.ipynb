{
 "cells": [
  {
   "cell_type": "markdown",
   "metadata": {},
   "source": [
    "# SVM Classifier with One-Hot Encoding"
   ]
  },
  {
   "cell_type": "code",
   "execution_count": 1,
   "metadata": {},
   "outputs": [
    {
     "name": "stdout",
     "output_type": "stream",
     "text": [
      "X_train: (2560, 60000)\n",
      "X_test: (800, 60000)\n",
      "X_val: (640, 60000)\n"
     ]
    }
   ],
   "source": [
    "import os\n",
    "import pickle\n",
    "\n",
    "# SADR: path to the dataset.\n",
    "dataset_path = os.path.join(\"preprocessed_datasets\", \"dataset_one_hot.pkl\")\n",
    "\n",
    "# SADR: loading training data.\n",
    "with open(dataset_path, \"rb\") as f:\n",
    "    dataset_one_hot = pickle.load(f)\n",
    "\n",
    "# SADR: getting the training, validation, and testing data.\n",
    "X_train, y_train = dataset_one_hot[\"X_train\"], dataset_one_hot[\"y_train\"]\n",
    "X_val, y_val = dataset_one_hot[\"X_val\"], dataset_one_hot[\"y_val\"]\n",
    "X_test, y_test = dataset_one_hot[\"X_test\"], dataset_one_hot[\"y_test\"]\n",
    "\n",
    "print(f\"X_train: {X_train.shape}\")\n",
    "print(f\"X_test: {X_test.shape}\")\n",
    "print(f\"X_val: {X_val.shape}\")"
   ]
  },
  {
   "cell_type": "code",
   "execution_count": null,
   "metadata": {},
   "outputs": [],
   "source": [
    "from sklearn.naive_bayes import BernoulliNB\n",
    "from sklearn.metrics import accuracy_score, classification_report\n",
    "\n",
    "# Initialize the model (adjust alpha if needed)\n",
    "model = BernoulliNB(alpha=1.0)  # alpha=1.0 is Laplace smoothing (default)\n",
    "\n",
    "# Train on the training data\n",
    "model.fit(X_train, y_train)\n",
    "\n",
    "# Validate on the validation set\n",
    "y_val_pred = model.predict(X_val)\n",
    "print(\"Validation Accuracy:\", accuracy_score(y_val, y_val_pred))\n",
    "print(classification_report(y_val, y_val_pred))\n",
    "\n",
    "# Final evaluation on the test set\n",
    "y_test_pred = model.predict(X_test)\n",
    "print(\"\\nTest Accuracy:\", accuracy_score(y_test, y_test_pred))\n",
    "print(classification_report(y_test, y_test_pred))"
   ]
  }
 ],
 "metadata": {
  "kernelspec": {
   "display_name": "usr",
   "language": "python",
   "name": "python3"
  },
  "language_info": {
   "codemirror_mode": {
    "name": "ipython",
    "version": 3
   },
   "file_extension": ".py",
   "mimetype": "text/x-python",
   "name": "python",
   "nbconvert_exporter": "python",
   "pygments_lexer": "ipython3",
   "version": "3.10.12"
  }
 },
 "nbformat": 4,
 "nbformat_minor": 2
}
