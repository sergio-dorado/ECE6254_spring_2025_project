{
 "cells": [
  {
   "cell_type": "markdown",
   "metadata": {},
   "source": [
    "# SVM Classifier with One-Hot Encoding\n",
    "\n",
    "## Importing Dependencies"
   ]
  },
  {
   "cell_type": "code",
   "execution_count": 1,
   "metadata": {},
   "outputs": [],
   "source": [
    "import os\n",
    "import pickle\n",
    "import numpy as np\n",
    "\n",
    "from sklearn.pipeline import Pipeline\n",
    "from sklearn.preprocessing import StandardScaler\n",
    "\n",
    "from sklearn.svm import SVC\n",
    "\n",
    "# SADR: importing the confusion matrix functionality.\n",
    "from sklearn.metrics import confusion_matrix, accuracy_score, precision_score, recall_score, f1_score"
   ]
  },
  {
   "cell_type": "markdown",
   "metadata": {},
   "source": [
    "## Loading Dataset"
   ]
  },
  {
   "cell_type": "code",
   "execution_count": 2,
   "metadata": {},
   "outputs": [
    {
     "name": "stdout",
     "output_type": "stream",
     "text": [
      "X_train: (2560, 60000)\n",
      "X_test: (800, 60000)\n",
      "X_val: (640, 60000)\n"
     ]
    }
   ],
   "source": [
    "# SADR: path to the dataset.\n",
    "dataset_path = os.path.join(\"preprocessed_datasets\", \"dataset_one_hot.pkl\")\n",
    "\n",
    "# SADR: loading training data.\n",
    "with open(dataset_path, \"rb\") as f:\n",
    "    dataset_one_hot = pickle.load(f)\n",
    "\n",
    "# SADR: getting the training, validation, and testing data.\n",
    "X_train, y_train = dataset_one_hot[\"X_train\"], dataset_one_hot[\"y_train\"]\n",
    "X_val, y_val = dataset_one_hot[\"X_val\"], dataset_one_hot[\"y_val\"]\n",
    "X_test, y_test = dataset_one_hot[\"X_test\"], dataset_one_hot[\"y_test\"]\n",
    "\n",
    "print(f\"X_train: {X_train.shape}\")\n",
    "print(f\"X_test: {X_test.shape}\")\n",
    "print(f\"X_val: {X_val.shape}\")"
   ]
  },
  {
   "cell_type": "markdown",
   "metadata": {},
   "source": [
    "## Polynomial Kernel\n",
    "\n",
    "### Model Selection"
   ]
  },
  {
   "cell_type": "code",
   "execution_count": null,
   "metadata": {},
   "outputs": [],
   "source": [
    "# SADR: inhomogenous polynomial kernel bias parameter.\n",
    "coef0 = 1\n",
    "\n",
    "# SADR: degree of the polynomial kernel.\n",
    "degree = np.arange(2, 10)\n",
    "\n",
    "# SADR: cost coefficient.\n",
    "C_vals = np.logspace(1, 3, 20)\n",
    "\n",
    "# SADR: array to store the f1 scores.\n",
    "f1_scores = np.zeros(shape=(degree.shape[0], C_vals.shape[0]))\n",
    "precision_scores = np.zeros(shape=(degree.shape[0], C_vals.shape[0]))\n",
    "\n",
    "# SADR: grid search for the best degree and C values.\n",
    "for _n_d, _d in enumerate(degree):\n",
    "    for _n_c, _c in enumerate(C_vals):\n",
    "        poly_kernel_svm_clf = Pipeline([\n",
    "            (\"scaler\", StandardScaler()),\n",
    "            (\"svm_clf\", SVC(kernel=\"poly\", degree=_d, C=_c, coef0=coef0))\n",
    "        ])\n",
    "        \n",
    "        # SADR: training the model.\n",
    "        poly_kernel_svm_clf.fit(X_train, y_train)\n",
    "\n",
    "        # SADR: evaluating the performance on the validation set.\n",
    "        f1_score_val = f1_score(y_val, poly_kernel_svm_clf.predict(X_val))\n",
    "        f1_scores[_n_d, _n_c] = f1_score_val\n",
    "\n",
    "        precision_score_val = precision_score(y_val, poly_kernel_svm_clf.predict(X_val))\n",
    "        precision_scores[_n_d, _n_c] = precision_score_val\n",
    "        print(f\"degree: {_d}, C: {_c}, precision: {precision_score_val}, f1: {f1_score_val}\")\n",
    "\n",
    "# SADR: determining the best degree and C values.\n",
    "# SADR: precision\n",
    "(degree_opt_idx_pr, C_opt_idx_pr) = np.unravel_index(np.argmax(precision_scores), precision_scores.shape)\n",
    "degree_opt_pr, C_opt_pr = degree[degree_opt_idx_pr], C_vals[C_opt_idx_pr]\n",
    "print(f\"degree_opt_pr: {degree_opt_pr}, C_opt_pr: {C_opt_pr}\")\n",
    "\n",
    "# SADR: f1\n",
    "(degree_opt_idx_f1, C_opt_idx_f1) = np.unravel_index(np.argmax(f1_scores), f1_scores.shape)\n",
    "degree_opt_f1, C_opt_f1 = degree[degree_opt_idx_f1], C_vals[C_opt_idx_f1]\n",
    "print(f\"degree_opt_pr: {degree_opt_f1}, C_opt_f1: {C_opt_f1}\")"
   ]
  },
  {
   "cell_type": "markdown",
   "metadata": {},
   "source": [
    "### Training"
   ]
  },
  {
   "cell_type": "code",
   "execution_count": 3,
   "metadata": {},
   "outputs": [
    {
     "name": "stdout",
     "output_type": "stream",
     "text": [
      "accuracy: 0.9775\n",
      "precision: 0.9782608695652174\n",
      "recall: 0.9782608695652174\n",
      "f1_score: 0.9782608695652174\n",
      "confusion_matrix: [[377   9]\n",
      " [  9 405]]\n"
     ]
    }
   ],
   "source": [
    "# SADR: optimal hyperparameter values.\n",
    "# Precision and F1 are the same.\n",
    "coef0 = 1 # repeating this value here to avoid running the model selection cell again.\n",
    "degree_opt, C_opt = 2, 183.298\n",
    "\n",
    "X_train_all = np.concatenate((X_train, X_val), axis=0)\n",
    "y_train_all = np.concatenate((y_train, y_val), axis=0)\n",
    "\n",
    "# SADR: training the model on the entire training set.\n",
    "poly_kernel_svm_clf = Pipeline([\n",
    "    (\"scaler\", StandardScaler()),\n",
    "    (\"svm_clf\", SVC(kernel=\"poly\", degree=degree_opt, C=C_opt, coef0=coef0))\n",
    "])\n",
    "poly_kernel_svm_clf.fit(X_train_all, y_train_all)\n",
    "y_pred = poly_kernel_svm_clf.predict(X_test)\n",
    "\n",
    "# SADR: computing the performance metrics on the test set.\n",
    "print(f\"accuracy: {accuracy_score(y_test, y_pred)}\")\n",
    "print(f\"precision: {precision_score(y_test, y_pred)}\")\n",
    "print(f\"recall: {recall_score(y_test, y_pred)}\")\n",
    "print(f\"f1_score: {f1_score(y_test, y_pred)}\")\n",
    "\n",
    "# SADR: printing the confusion matrix.\n",
    "cm = confusion_matrix(y_test, y_pred)\n",
    "print(f\"confusion_matrix: {cm}\")\n",
    "\n",
    "# SADR: saving the confusion matrix.\n",
    "cm_path = os.path.join(\"results\", \"one_hot\", \"svm_poly_kernel_cm.npy\")\n",
    "np.save(cm_path, cm)"
   ]
  },
  {
   "cell_type": "markdown",
   "metadata": {},
   "source": [
    "## Gaussian RBF Kernel\n",
    "\n",
    "### Model Selection"
   ]
  },
  {
   "cell_type": "code",
   "execution_count": null,
   "metadata": {},
   "outputs": [],
   "source": [
    "# SADR: cost parameter.\n",
    "C_vals = np.logspace(-1, 1, 10)\n",
    "\n",
    "# SADR: scaling parameter.\n",
    "gamma_vals = np.logspace(-6, -1, 10)\n",
    "\n",
    "# SADR: array to store the f1 scores.\n",
    "f1_scores = np.zeros(shape=(gamma_vals.shape[0], C_vals.shape[0]))\n",
    "precision_scores = np.zeros(shape=(gamma_vals.shape[0], C_vals.shape[0]))\n",
    "\n",
    "# SADR: grid search for the best degree and C values.\n",
    "for _n_gamma, _gamma in enumerate(gamma_vals):\n",
    "    for _n_c, _c in enumerate(C_vals):\n",
    "        gaussian_rbf_svm_clf = Pipeline([\n",
    "            (\"scaler\", StandardScaler()),\n",
    "            (\"svm_clf\", SVC(kernel=\"rbf\", gamma=_gamma, C=_c))\n",
    "        ])\n",
    "        \n",
    "        # SADR: training the model.\n",
    "        gaussian_rbf_svm_clf.fit(X_train, y_train)\n",
    "\n",
    "        # SADR: evaluating the performance on the validation set.\n",
    "        f1_score_val = f1_score(y_val, gaussian_rbf_svm_clf.predict(X_val))\n",
    "        f1_scores[_n_gamma, _n_c] = f1_score_val\n",
    "\n",
    "        precision_score_val = precision_score(y_val, gaussian_rbf_svm_clf.predict(X_val))\n",
    "        precision_scores[_n_gamma, _n_c] = precision_score_val\n",
    "        print(f\"gamma: {_gamma}, C: {_c}, precision: {precision_score_val}, f1: {f1_score_val}\")\n",
    "\n",
    "# SADR: determining the best degree and C values.\n",
    "\n",
    "# SADR: precision\n",
    "(gamma_opt_idx_pr, C_opt_idx_pr) = np.unravel_index(np.argmax(precision_scores), precision_scores.shape)\n",
    "gamma_opt_pr, C_opt_pr = gamma_vals[gamma_opt_idx_pr], C_vals[C_opt_idx_pr]\n",
    "print(f\"gamma_opt_pr: {gamma_opt_pr}, C_opt_pr: {C_opt_pr}\")\n",
    "\n",
    "# SADR: f1\n",
    "(gamma_opt_idx_f1, C_opt_idx_f1) = np.unravel_index(np.argmax(f1_scores), f1_scores.shape)\n",
    "gamma_opt_f1, C_opt_f1 = gamma_vals[gamma_opt_idx_f1], C_vals[C_opt_idx_f1]\n",
    "print(f\"gamma_opt_f1: {gamma_opt_f1}, C_opt_f1: {C_opt_f1}\")"
   ]
  },
  {
   "cell_type": "markdown",
   "metadata": {},
   "source": [
    "### Training"
   ]
  },
  {
   "cell_type": "code",
   "execution_count": 4,
   "metadata": {},
   "outputs": [
    {
     "name": "stdout",
     "output_type": "stream",
     "text": [
      "accuracy: 0.9825\n",
      "precision: 0.9901960784313726\n",
      "recall: 0.9758454106280193\n",
      "f1_score: 0.9829683698296837\n",
      "confusion_matrix: [[382   4]\n",
      " [ 10 404]]\n"
     ]
    }
   ],
   "source": [
    "# SADR: optimal hyperparameter values (based on F1).\n",
    "gamma_opt, C_opt = 0.0001668100537200059, 3.593813663804626\n",
    "\n",
    "X_train_all = np.concatenate((X_train, X_val), axis=0)\n",
    "y_train_all = np.concatenate((y_train, y_val), axis=0)\n",
    "\n",
    "# SADR: training the model on the entire training set.\n",
    "gaussian_rbf_svm_clf = Pipeline([\n",
    "    (\"scaler\", StandardScaler()),\n",
    "    (\"svm_clf\", SVC(kernel=\"rbf\", gamma=gamma_opt, C=C_opt))\n",
    "])\n",
    "gaussian_rbf_svm_clf.fit(X_train_all, y_train_all)\n",
    "y_pred = gaussian_rbf_svm_clf.predict(X_test)\n",
    "\n",
    "# SADR: computing the performance metrics on the test set.\n",
    "print(f\"accuracy: {accuracy_score(y_test, y_pred)}\")\n",
    "print(f\"precision: {precision_score(y_test, y_pred)}\")\n",
    "print(f\"recall: {recall_score(y_test, y_pred)}\")\n",
    "print(f\"f1_score: {f1_score(y_test, y_pred)}\")\n",
    "\n",
    "# SADR: printing the confusion matrix.\n",
    "cm = confusion_matrix(y_test, y_pred)\n",
    "print(f\"confusion_matrix: {cm}\")\n",
    "\n",
    "# SADR: saving the confusion matrix.\n",
    "cm_path = os.path.join(\"results\", \"one_hot\", \"svm_rbf_kernel_cm.npy\")\n",
    "np.save(cm_path, cm)"
   ]
  }
 ],
 "metadata": {
  "kernelspec": {
   "display_name": ".venv",
   "language": "python",
   "name": "python3"
  },
  "language_info": {
   "codemirror_mode": {
    "name": "ipython",
    "version": 3
   },
   "file_extension": ".py",
   "mimetype": "text/x-python",
   "name": "python",
   "nbconvert_exporter": "python",
   "pygments_lexer": "ipython3",
   "version": "3.12.7"
  }
 },
 "nbformat": 4,
 "nbformat_minor": 2
}
