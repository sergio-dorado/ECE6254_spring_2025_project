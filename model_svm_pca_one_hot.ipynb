{
 "cells": [
  {
   "cell_type": "markdown",
   "id": "c1814e77",
   "metadata": {},
   "source": [
    "# SVM Classifier with PCA Dimensionality Reduction\n",
    "\n",
    "## Importing Dependencies"
   ]
  },
  {
   "cell_type": "code",
   "execution_count": null,
   "id": "9e2b1f4d",
   "metadata": {},
   "outputs": [],
   "source": [
    "import os\n",
    "import pickle\n",
    "import numpy as np\n",
    "\n",
    "from sklearn.pipeline import Pipeline\n",
    "from sklearn.preprocessing import StandardScaler\n",
    "from sklearn.svm import SVC\n",
    "\n",
    "# SADR: PCA functionalities\n",
    "from sklearn.decomposition import PCA, KernelPCA\n",
    "\n",
    "# SADR: functionalities for model selection and cross-validation\n",
    "from sklearn.model_selection import RandomizedSearchCV\n",
    "\n",
    "# SADR: importing the confusion matrix functionality.\n",
    "from sklearn.metrics import confusion_matrix, accuracy_score, precision_score, recall_score, f1_score"
   ]
  },
  {
   "cell_type": "markdown",
   "id": "5600d2dd",
   "metadata": {},
   "source": [
    "## Loading Data"
   ]
  },
  {
   "cell_type": "code",
   "execution_count": null,
   "id": "bb734b4b",
   "metadata": {},
   "outputs": [],
   "source": [
    "# SADR: path to the dataset.\n",
    "dataset_path = os.path.join(\"preprocessed_datasets\", \"dataset_one_hot.pkl\")\n",
    "\n",
    "# SADR: loading training data.\n",
    "with open(dataset_path, \"rb\") as f:\n",
    "    dataset_one_hot = pickle.load(f)\n",
    "\n",
    "# SADR: getting the training, validation, and testing data.\n",
    "X_train, y_train = dataset_one_hot[\"X_train\"], dataset_one_hot[\"y_train\"]\n",
    "X_val, y_val = dataset_one_hot[\"X_val\"], dataset_one_hot[\"y_val\"]\n",
    "X_test, y_test = dataset_one_hot[\"X_test\"], dataset_one_hot[\"y_test\"]\n",
    "\n",
    "print(f\"X_train: {X_train.shape}\")\n",
    "print(f\"X_test: {X_test.shape}\")\n",
    "print(f\"X_val: {X_val.shape}\")\n",
    "\n",
    "# SADR: rejoining the training and validation data.\n",
    "# Important to do k-fold cross-validation.\n",
    "X_train = np.concat((X_train, X_val))\n",
    "y_train = np.concat((y_train, y_val))\n",
    "print(f\"X_train: {X_train.shape}, y_train: {y_train.shape}\")"
   ]
  },
  {
   "cell_type": "markdown",
   "id": "96e33d6c",
   "metadata": {},
   "source": [
    "## Pipeline of kernel PCA (inhomogeneous polynomial kernel) + Linear SVM\n",
    "\n",
    "First, we carry out a dimensionality reduction with a kernelized PCA through a inhomogeneous polynomial kernel, and then train a linear SVC on the data.\n",
    "\n",
    "For reference, with `n_iter = 2`, the code below takes about 50s to run in my personal computer."
   ]
  },
  {
   "cell_type": "code",
   "execution_count": null,
   "id": "e850e2d8",
   "metadata": {},
   "outputs": [],
   "source": [
    "# SADR: specify the parameter values.\n",
    "param_distr = {\n",
    "    \"pca__n_components\": np.arange(10, 410, 10),\n",
    "    \"pca__degree\" : np.arange(1, 40, 2),\n",
    "    \"svc__C\": np.logspace(-1, 3, 100),\n",
    "}\n",
    "\n",
    "# SADR: classifier pipeline.\n",
    "clf = Pipeline([\n",
    "    (\"pca\", KernelPCA(kernel=\"poly\", random_state=42)),\n",
    "    (\"scaler\", StandardScaler()), \n",
    "    (\"svc\", SVC())\n",
    "])\n",
    "\n",
    "# SADR: model selection using randomized search.\n",
    "# This treats the parameters as uniform probability distributions,\n",
    "# takes random samples (n_iter) samples, and evaluates the results\n",
    "# by default over k-fold (k=5) cross-validation.\n",
    "# - n_iter: number of iterations (set it to a small number at the beginning\n",
    "# to have an idea about the model selection plus training time).\n",
    "rnd_search = RandomizedSearchCV(clf, param_distr, \n",
    "    n_iter=500, scoring='f1', random_state=42)\n",
    "\n",
    "# SADR: fitting the model (and carrying out the parameter search)\n",
    "# This might be time consuming.\n",
    "rnd_search.fit(X_train, y_train)\n",
    "\n",
    "# SADR: reporting the best parameters\n",
    "rnd_search.best_params_"
   ]
  },
  {
   "cell_type": "code",
   "execution_count": null,
   "id": "198f3a5e",
   "metadata": {},
   "outputs": [],
   "source": [
    "# SADR: prediction on the trained model.\n",
    "y_pred = rnd_search.predict(X_test)\n",
    "\n",
    "# SADR: testing scores.\n",
    "print(f\"accuracy: {accuracy_score(y_test, y_pred):.4f}\")\n",
    "print(f\"precision: {precision_score(y_test, y_pred):.4f}\")\n",
    "print(f\"recall: {recall_score(y_test, y_pred):.4f}\")\n",
    "print(f\"f1_score: {f1_score(y_test, y_pred):.4f}\")"
   ]
  },
  {
   "cell_type": "markdown",
   "id": "978916d0",
   "metadata": {},
   "source": [
    "## Pipeline of kernel PCA (RBF kernel) + Linear SVM"
   ]
  },
  {
   "cell_type": "code",
   "execution_count": null,
   "id": "4412f993",
   "metadata": {},
   "outputs": [],
   "source": [
    "# SADR: specify the parameter values.\n",
    "param_distr = {\n",
    "    \"pca__n_components\": np.arange(10, 410, 10),\n",
    "    \"pca__gamma\" : np.logspace(-3, 3, 100),\n",
    "    \"svc__C\": np.logspace(-1, 3, 100),\n",
    "}\n",
    "\n",
    "# SADR: classifier pipeline.\n",
    "clf = Pipeline([\n",
    "    (\"pca\", KernelPCA(kernel=\"rbf\", random_state=42)), \n",
    "    (\"svc\", SVC())\n",
    "])\n",
    "\n",
    "# SADR: model selection using randomized search.\n",
    "# This treats the parameters as uniform probability distributions,\n",
    "# takes random samples (n_iter) samples, and evaluates the results\n",
    "# by default over k-fold (k=5) cross-validation.\n",
    "# - n_iter: number of iterations (set it to a small number at the beginning\n",
    "# to have an idea about the model selection plus training time).\n",
    "rnd_search = RandomizedSearchCV(clf, param_distr, \n",
    "    n_iter=500, scoring='f1', random_state=42)\n",
    "\n",
    "# SADR: fitting the model (and carrying out the parameter search)\n",
    "# This might be time consuming.\n",
    "rnd_search.fit(X_train, y_train)\n",
    "\n",
    "# SADR: reporting the best parameters\n",
    "rnd_search.best_params_"
   ]
  },
  {
   "cell_type": "markdown",
   "id": "050fc3ae",
   "metadata": {},
   "source": [
    "### Testing Performance"
   ]
  },
  {
   "cell_type": "code",
   "execution_count": null,
   "id": "852a242d",
   "metadata": {},
   "outputs": [],
   "source": [
    "# SADR: prediction on the trained model.\n",
    "y_pred = rnd_search.predict(X_test)\n",
    "\n",
    "# SADR: testing scores.\n",
    "print(f\"accuracy: {accuracy_score(y_test, y_pred):.4f}\")\n",
    "print(f\"precision: {precision_score(y_test, y_pred):.4f}\")\n",
    "print(f\"recall: {recall_score(y_test, y_pred):.4f}\")\n",
    "print(f\"f1_score: {f1_score(y_test, y_pred):.4f}\")"
   ]
  },
  {
   "cell_type": "markdown",
   "id": "dbe513dc",
   "metadata": {},
   "source": [
    "## Pipeline of linear PCA + kernelized SVM (RBF)"
   ]
  },
  {
   "cell_type": "code",
   "execution_count": null,
   "id": "1aa33b21",
   "metadata": {},
   "outputs": [],
   "source": [
    "# SADR: specify the parameter values.\n",
    "param_distr = {\n",
    "    \"pca__n_components\": np.arange(10, 410, 10),\n",
    "    \"svc__gamma\" : np.logspace(-3, 3, 100),\n",
    "    \"svc__C\": np.logspace(-1, 3, 100),\n",
    "}\n",
    "\n",
    "# SADR: classifier pipeline.\n",
    "clf = Pipeline([\n",
    "    (\"pca\", PCA(random_state=42)),\n",
    "    (\"scaler\", StandardScaler()), \n",
    "    (\"svc\", SVC(kernel=\"rbf\"))\n",
    "])\n",
    "\n",
    "# SADR: model selection using randomized search.\n",
    "# This treats the parameters as uniform probability distributions,\n",
    "# takes random samples (n_iter) samples, and evaluates the results\n",
    "# by default over k-fold (k=5) cross-validation.\n",
    "# - n_iter: number of iterations (set it to a small number at the beginning\n",
    "# to have an idea about the model selection plus training time).\n",
    "rnd_search = RandomizedSearchCV(clf, param_distr, \n",
    "    n_iter=500, scoring='f1', random_state=42)\n",
    "\n",
    "# SADR: fitting the model (and carrying out the parameter search)\n",
    "# This might be time consuming.\n",
    "rnd_search.fit(X_train, y_train)\n",
    "\n",
    "# SADR: reporting the best parameters\n",
    "rnd_search.best_params_"
   ]
  },
  {
   "cell_type": "markdown",
   "id": "064388ef",
   "metadata": {},
   "source": [
    "### Testing Performance"
   ]
  },
  {
   "cell_type": "code",
   "execution_count": null,
   "id": "11517942",
   "metadata": {},
   "outputs": [],
   "source": [
    "# SADR: prediction on the trained model.\n",
    "y_pred = rnd_search.predict(X_test)\n",
    "\n",
    "# SADR: testing scores.\n",
    "print(f\"accuracy: {accuracy_score(y_test, y_pred):.4f}\")\n",
    "print(f\"precision: {precision_score(y_test, y_pred):.4f}\")\n",
    "print(f\"recall: {recall_score(y_test, y_pred):.4f}\")\n",
    "print(f\"f1_score: {f1_score(y_test, y_pred):.4f}\")"
   ]
  },
  {
   "cell_type": "markdown",
   "id": "02e159f8",
   "metadata": {},
   "source": [
    "## Pipeline of linear PCA + kernelized SVM (inhomogeneous polynomial kernel)"
   ]
  },
  {
   "cell_type": "code",
   "execution_count": null,
   "id": "48d8f23c",
   "metadata": {},
   "outputs": [],
   "source": [
    "# SADR: specify the parameter values.\n",
    "param_distr = {\n",
    "    \"pca__n_components\": np.arange(10, 410, 10),\n",
    "    \"svc__degree\" : np.arange(1, 21),\n",
    "    \"svc__C\": np.logspace(-1, 3, 100),\n",
    "}\n",
    "\n",
    "# SADR: classifier pipeline.\n",
    "clf = Pipeline([\n",
    "    (\"pca\", PCA(random_state=42)),\n",
    "    (\"scaler\", StandardScaler()), \n",
    "    (\"svc\", SVC(kernel=\"poly\", coef0=1))\n",
    "])\n",
    "\n",
    "# SADR: model selection using randomized search.\n",
    "# This treats the parameters as uniform probability distributions,\n",
    "# takes random samples (n_iter) samples, and evaluates the results\n",
    "# by default over k-fold (k=5) cross-validation.\n",
    "# - n_iter: number of iterations (set it to a small number at the beginning\n",
    "# to have an idea about the model selection plus training time).\n",
    "rnd_search = RandomizedSearchCV(clf, param_distr, \n",
    "    n_iter=500, scoring='f1', random_state=42)\n",
    "\n",
    "# SADR: fitting the model (and carrying out the parameter search)\n",
    "# This might be time consuming.\n",
    "rnd_search.fit(X_train, y_train)\n",
    "\n",
    "# SADR: reporting the best parameters\n",
    "rnd_search.best_params_"
   ]
  },
  {
   "cell_type": "markdown",
   "id": "4a377f69",
   "metadata": {},
   "source": [
    "### Testing Performance"
   ]
  },
  {
   "cell_type": "code",
   "execution_count": null,
   "id": "0f951bcb",
   "metadata": {},
   "outputs": [],
   "source": [
    "# SADR: prediction on the trained model.\n",
    "y_pred = rnd_search.predict(X_test)\n",
    "\n",
    "# SADR: testing scores.\n",
    "print(f\"accuracy: {accuracy_score(y_test, y_pred):.4f}\")\n",
    "print(f\"precision: {precision_score(y_test, y_pred):.4f}\")\n",
    "print(f\"recall: {recall_score(y_test, y_pred):.4f}\")\n",
    "print(f\"f1_score: {f1_score(y_test, y_pred):.4f}\")"
   ]
  }
 ],
 "metadata": {
  "kernelspec": {
   "display_name": ".venv",
   "language": "python",
   "name": "python3"
  },
  "language_info": {
   "codemirror_mode": {
    "name": "ipython",
    "version": 3
   },
   "file_extension": ".py",
   "mimetype": "text/x-python",
   "name": "python",
   "nbconvert_exporter": "python",
   "pygments_lexer": "ipython3",
   "version": "3.12.7"
  }
 },
 "nbformat": 4,
 "nbformat_minor": 5
}
