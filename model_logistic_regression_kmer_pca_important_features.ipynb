{
  "nbformat": 4,
  "nbformat_minor": 0,
  "metadata": {
    "colab": {
      "provenance": []
    },
    "kernelspec": {
      "name": "python3",
      "display_name": "Python 3"
    },
    "language_info": {
      "name": "python"
    }
  },
  "cells": [
    {
      "cell_type": "markdown",
      "source": [
        "Logistic Regression\n",
        "\n",
        "1.   K-mer preprocessed data\n"
      ],
      "metadata": {
        "id": "D4ngG7NSkHzc"
      }
    },
    {
      "cell_type": "markdown",
      "source": [
        "Logistic regression with $k$-mer Encoding"
      ],
      "metadata": {
        "id": "kuL_kcHdlNNo"
      }
    },
    {
      "cell_type": "code",
      "source": [
        "import os\n",
        "import pickle\n",
        "import os\n",
        "import pickle\n",
        "\n",
        "# SADR: path to the dataset.\n",
        "dataset_path = os.path.join(\"preprocessed_datasets\", \"dataset_k_mer.pkl\")\n",
        "dataset_path = r\"/dataset_k_mer.pkl\"\n",
        "\n",
        "# loading training data.\n",
        "with open(dataset_path, \"rb\") as f:\n",
        "    dataset_k_mer = pickle.load(f)\n",
        "\n",
        "# getting the training, validation, and testing data.\n",
        "X_train, y_train = dataset_k_mer[\"X_train\"], dataset_k_mer[\"y_train\"]\n",
        "X_val, y_val = dataset_k_mer[\"X_val\"], dataset_k_mer[\"y_val\"]\n",
        "X_test, y_test = dataset_k_mer[\"X_test\"], dataset_k_mer[\"y_test\"]\n",
        "\n",
        "print(f\"X_train: {X_train.shape}\")\n",
        "print(f\"X_test: {X_test.shape}\")\n",
        "print(f\"X_val: {X_val.shape}\")\n",
        "with open(dataset_path, \"rb\") as f:\n",
        "    dataset_k_mer = pickle.load(f)\n",
        "\n",
        "# getting the training, validation, and testing data.\n",
        "X_train, y_train = dataset_k_mer[\"X_train\"], dataset_k_mer[\"y_train\"]\n",
        "X_val, y_val = dataset_k_mer[\"X_val\"], dataset_k_mer[\"y_val\"]\n",
        "X_test, y_test = dataset_k_mer[\"X_test\"], dataset_k_mer[\"y_test\"]\n",
        "\n",
        "with open(dataset_path, \"rb\") as f:\n",
        "    dataset_k_mer = pickle.load(f)\n",
        "\n",
        "# getting the training, validation, and testing data.\n",
        "X_train, y_train = dataset_k_mer[\"X_train\"], dataset_k_mer[\"y_train\"]\n",
        "X_val, y_val = dataset_k_mer[\"X_val\"], dataset_k_mer[\"y_val\"]\n",
        "X_test, y_test = dataset_k_mer[\"X_test\"], dataset_k_mer[\"y_test\"]\n",
        "\n",
        "print(f\"X_train: {X_train.shape}\")\n",
        "print(f\"X_test: {X_test.shape}\")\n",
        "print(f\"X_val: {X_val.shape}\")"
      ],
      "metadata": {
        "colab": {
          "base_uri": "https://localhost:8080/"
        },
        "id": "jhqPVKjblPx5",
        "outputId": "132f45fc-62c2-4734-c971-4377e69233f2"
      },
      "execution_count": 4,
      "outputs": [
        {
          "output_type": "stream",
          "name": "stdout",
          "text": [
            "X_train: (2560, 459)\n",
            "X_test: (800, 459)\n",
            "X_val: (640, 459)\n",
            "X_train: (2560, 459)\n",
            "X_test: (800, 459)\n",
            "X_val: (640, 459)\n"
          ]
        }
      ]
    },
    {
      "source": [],
      "cell_type": "code",
      "metadata": {
        "id": "kJ2nlRkgMflZ"
      },
      "execution_count": 4,
      "outputs": []
    },
    {
      "cell_type": "markdown",
      "source": [
        "Logistic regression Model\n",
        "> 1 = human //\n",
        "-1 = animal\n",
        "\n"
      ],
      "metadata": {
        "id": "2r8IBladlTuy"
      }
    },
    {
      "source": [
        "from sklearn.linear_model import LogisticRegression\n",
        "from sklearn.metrics import accuracy_score, classification_report\n",
        "\n",
        "model = LogisticRegression(max_iter=250)\n",
        "model.fit(X_train, y_train)\n",
        "y_pred = model.predict(X_test)\n",
        "\n",
        "y_val_pred = model.predict(X_val)\n",
        "\n",
        "# Validation results with 4 decimal points\n",
        "print(\"Validation Accuracy: {:.4f}\".format(accuracy_score(y_val, y_val_pred)))\n",
        "print(classification_report(y_val, y_val_pred, digits=4))\n",
        "\n",
        "# Test results with 4 decimal points\n",
        "y_test_pred = model.predict(X_test)\n",
        "print(\"\\nTest Accuracy: {:.4f}\".format(accuracy_score(y_test, y_test_pred)))\n",
        "print(classification_report(y_test, y_test_pred, digits=4))"
      ],
      "cell_type": "code",
      "metadata": {
        "colab": {
          "base_uri": "https://localhost:8080/"
        },
        "id": "6b9f-MLCz6iF",
        "outputId": "547a9494-8aa5-447b-dad8-e9ab54c3c7cf"
      },
      "execution_count": 5,
      "outputs": [
        {
          "output_type": "stream",
          "name": "stdout",
          "text": [
            "Validation Accuracy: 0.9891\n",
            "              precision    recall  f1-score   support\n",
            "\n",
            "          -1     0.9938    0.9846    0.9892       325\n",
            "           1     0.9843    0.9937    0.9889       315\n",
            "\n",
            "    accuracy                         0.9891       640\n",
            "   macro avg     0.9890    0.9891    0.9891       640\n",
            "weighted avg     0.9891    0.9891    0.9891       640\n",
            "\n",
            "\n",
            "Test Accuracy: 0.9825\n",
            "              precision    recall  f1-score   support\n",
            "\n",
            "          -1     0.9869    0.9767    0.9818       386\n",
            "           1     0.9785    0.9879    0.9832       414\n",
            "\n",
            "    accuracy                         0.9825       800\n",
            "   macro avg     0.9827    0.9823    0.9825       800\n",
            "weighted avg     0.9825    0.9825    0.9825       800\n",
            "\n"
          ]
        }
      ]
    },
    {
      "source": [
        "from sklearn.model_selection import KFold\n",
        "from sklearn.linear_model import LogisticRegression\n",
        "from sklearn.metrics import accuracy_score\n",
        "from sklearn.preprocessing import StandardScaler  # Import StandardScaler\n",
        "\n",
        "# Number of folds\n",
        "k = 3\n",
        "kf = KFold(n_splits=k, shuffle=True, random_state=42)\n",
        "\n",
        "# Store accuracy for each fold\n",
        "fold_accuracies = []\n",
        "\n",
        "# Perform k-fold cross-validation\n",
        "for fold, (train_index, val_index) in enumerate(kf.split(X_train)):\n",
        "    print(f\"Fold {fold + 1}/{k}\")\n",
        "\n",
        "    # Split the data into training and validation sets\n",
        "    X_train_fold, X_val_fold = X_train[train_index], X_train[val_index]\n",
        "    y_train_fold, y_val_fold = y_train[train_index], y_train[val_index]\n",
        "\n",
        "    # Feature scaling using StandardScaler\n",
        "    scaler = StandardScaler()\n",
        "    X_train_fold = scaler.fit_transform(X_train_fold)\n",
        "    X_val_fold = scaler.transform(X_val_fold)\n",
        "\n",
        "    # Train the logistic regression model with adjusted parameters\n",
        "    model = LogisticRegression(max_iter=3000, solver='saga', tol=1e-5, verbose=0)\n",
        "    model.fit(X_train_fold, y_train_fold)\n",
        "\n",
        "    # Evaluate on the validation set\n",
        "    y_val_pred = model.predict(X_val_fold)\n",
        "    accuracy = accuracy_score(y_val_fold, y_val_pred)\n",
        "    fold_accuracies.append(accuracy)\n",
        "\n",
        "    print(f\"Validation Accuracy for Fold {fold + 1}: {accuracy:.4f}\")\n",
        "\n",
        "# Compute the average accuracy across all folds\n",
        "average_accuracy = sum(fold_accuracies) / k\n",
        "print(f\"\\nAverage Validation Accuracy: {average_accuracy:.4f}\")"
      ],
      "cell_type": "code",
      "metadata": {
        "id": "FjhwXb0wFmwQ",
        "colab": {
          "base_uri": "https://localhost:8080/"
        },
        "outputId": "87a054d5-aaaa-4462-8674-321c21006bdd"
      },
      "execution_count": 7,
      "outputs": [
        {
          "output_type": "stream",
          "name": "stdout",
          "text": [
            "Fold 1/3\n"
          ]
        },
        {
          "output_type": "stream",
          "name": "stderr",
          "text": [
            "/usr/local/lib/python3.11/dist-packages/sklearn/linear_model/_sag.py:348: ConvergenceWarning: The max_iter was reached which means the coef_ did not converge\n",
            "  warnings.warn(\n"
          ]
        },
        {
          "output_type": "stream",
          "name": "stdout",
          "text": [
            "Validation Accuracy for Fold 1: 0.9754\n",
            "Fold 2/3\n"
          ]
        },
        {
          "output_type": "stream",
          "name": "stderr",
          "text": [
            "/usr/local/lib/python3.11/dist-packages/sklearn/linear_model/_sag.py:348: ConvergenceWarning: The max_iter was reached which means the coef_ did not converge\n",
            "  warnings.warn(\n"
          ]
        },
        {
          "output_type": "stream",
          "name": "stdout",
          "text": [
            "Validation Accuracy for Fold 2: 0.9836\n",
            "Fold 3/3\n",
            "Validation Accuracy for Fold 3: 0.9766\n",
            "\n",
            "Average Validation Accuracy: 0.9785\n"
          ]
        },
        {
          "output_type": "stream",
          "name": "stderr",
          "text": [
            "/usr/local/lib/python3.11/dist-packages/sklearn/linear_model/_sag.py:348: ConvergenceWarning: The max_iter was reached which means the coef_ did not converge\n",
            "  warnings.warn(\n"
          ]
        }
      ]
    },
    {
      "cell_type": "code",
      "source": [
        "#  PCA (number of components selected based on k-fold cross-validation with an LR classifier).\n",
        "\n",
        "# %pip install scikit-learn\n",
        "import sklearn # type: ignore\n",
        "\n",
        "#  importing the PCA class from sklearn.decomposition.\n",
        "from sklearn.decomposition import PCA # type: ignore\n",
        "\n",
        "pca = PCA(n_components=120, random_state=42)\n",
        "\n",
        "#  performing PCA on the training data.\n",
        "pca.fit(X_train)\n",
        "\n",
        "#  transforming the training and testing data.\n",
        "Z_train = pca.transform(X_train)\n",
        "Z_test = pca.transform(X_test)\n",
        "Z_val = pca.transform(X_val)\n",
        "\n",
        "#  shapes of the transformed data.\n",
        "print(f\"X_train: {X_train.shape}, Z_train: {Z_train.shape}\")\n",
        "print(f\"X_test: {X_test.shape}, Z_test: {Z_test.shape}\")\n",
        "print(f\"X_val: {X_val.shape}, Z_val: {Z_val.shape}\")"
      ],
      "metadata": {
        "id": "wysugkQpAscC",
        "colab": {
          "base_uri": "https://localhost:8080/"
        },
        "outputId": "51fcf969-be4c-4ef4-e9b2-c8cffab06941"
      },
      "execution_count": 8,
      "outputs": [
        {
          "output_type": "stream",
          "name": "stdout",
          "text": [
            "X_train: (2560, 459), Z_train: (2560, 120)\n",
            "X_test: (800, 459), Z_test: (800, 120)\n",
            "X_val: (640, 459), Z_val: (640, 120)\n"
          ]
        }
      ]
    },
    {
      "cell_type": "code",
      "source": [
        "import numpy as np"
      ],
      "metadata": {
        "id": "NQ97-XVmLmLZ"
      },
      "execution_count": 9,
      "outputs": []
    },
    {
      "cell_type": "code",
      "source": [
        "pca_importance = np.abs(pca.components_).sum(axis=0)\n",
        "pca_importance = pca_importance / np.sum(pca_importance)  # Normalize importance\n",
        "\n",
        "\n",
        "# Top 10 positions of the most important amino acid positions\n",
        "# [within the flattened one-hot encoded representation of your sequences]\n",
        "top_positions = np.argsort(pca_importance)[-120:]\n",
        "print(f\"Top positions: {top_positions}\")\n",
        "\n",
        "# Order of amino acids in one-hot encoding\n",
        "amino_acids = \"ACDEFGHIKLMNPQRSTVWY\"\n",
        "\n",
        "important_amino_acids = []\n",
        "\n",
        "\n",
        "for position_index in top_positions:\n",
        "    # Calculate the original row and column in the one-hot encoding matrix\n",
        "    row_index = position_index // len(amino_acids)  # Position in the sequence\n",
        "    col_index = position_index % len(amino_acids)   # Amino acid index\n",
        "\n",
        "    # Get the amino acid from the column index\n",
        "    amino_acid = amino_acids[col_index]\n",
        "\n",
        "    # Print or store the results (example)\n",
        "    print(f\"Important position {position_index} corresponds to amino acid {amino_acid} on the hemagglutinin protein\")\n",
        "    important_amino_acids.append(amino_acid)\n"
      ],
      "metadata": {
        "colab": {
          "base_uri": "https://localhost:8080/"
        },
        "id": "TMh_lTE_LiTE",
        "outputId": "b089c34c-3a5a-4d0c-df13-4b2d4d41b95c"
      },
      "execution_count": 11,
      "outputs": [
        {
          "output_type": "stream",
          "name": "stdout",
          "text": [
            "Top positions: [375  65 369 206 129 378 333  70 241  15 313 169 279 203 379 320  48 388\n",
            "   9 184 383 390  12 227 360 325 334 218 190  64  85 332  62  17 392  58\n",
            " 211  87 173 182 327 124 121 162 300 263 185   0  78 296 252  82 350 196\n",
            " 255 347 159  60 376 171 244 247  10 363 364  79 322 132 349 248 385 339\n",
            " 372 214 254 126 210  57 318   8 123 157 198 220  18 341 366 191 371 362\n",
            " 262 384 370 168 174 160 304 164  16 354 316  86 391 250 172 257 187 193\n",
            " 337 166 342 189 131 326 344 197 212 261 348 130]\n",
            "Important position 375 corresponds to amino acid S on the hemagglutinin protein\n",
            "Important position 65 corresponds to amino acid G on the hemagglutinin protein\n",
            "Important position 369 corresponds to amino acid L on the hemagglutinin protein\n",
            "Important position 206 corresponds to amino acid H on the hemagglutinin protein\n",
            "Important position 129 corresponds to amino acid L on the hemagglutinin protein\n",
            "Important position 378 corresponds to amino acid W on the hemagglutinin protein\n",
            "Important position 333 corresponds to amino acid Q on the hemagglutinin protein\n",
            "Important position 70 corresponds to amino acid M on the hemagglutinin protein\n",
            "Important position 241 corresponds to amino acid C on the hemagglutinin protein\n",
            "Important position 15 corresponds to amino acid S on the hemagglutinin protein\n",
            "Important position 313 corresponds to amino acid Q on the hemagglutinin protein\n",
            "Important position 169 corresponds to amino acid L on the hemagglutinin protein\n",
            "Important position 279 corresponds to amino acid Y on the hemagglutinin protein\n",
            "Important position 203 corresponds to amino acid E on the hemagglutinin protein\n",
            "Important position 379 corresponds to amino acid Y on the hemagglutinin protein\n",
            "Important position 320 corresponds to amino acid A on the hemagglutinin protein\n",
            "Important position 48 corresponds to amino acid K on the hemagglutinin protein\n",
            "Important position 388 corresponds to amino acid K on the hemagglutinin protein\n",
            "Important position 9 corresponds to amino acid L on the hemagglutinin protein\n",
            "Important position 184 corresponds to amino acid F on the hemagglutinin protein\n",
            "Important position 383 corresponds to amino acid E on the hemagglutinin protein\n",
            "Important position 390 corresponds to amino acid M on the hemagglutinin protein\n",
            "Important position 12 corresponds to amino acid P on the hemagglutinin protein\n",
            "Important position 227 corresponds to amino acid I on the hemagglutinin protein\n",
            "Important position 360 corresponds to amino acid A on the hemagglutinin protein\n",
            "Important position 325 corresponds to amino acid G on the hemagglutinin protein\n",
            "Important position 334 corresponds to amino acid R on the hemagglutinin protein\n",
            "Important position 218 corresponds to amino acid W on the hemagglutinin protein\n",
            "Important position 190 corresponds to amino acid M on the hemagglutinin protein\n",
            "Important position 64 corresponds to amino acid F on the hemagglutinin protein\n",
            "Important position 85 corresponds to amino acid G on the hemagglutinin protein\n",
            "Important position 332 corresponds to amino acid P on the hemagglutinin protein\n",
            "Important position 62 corresponds to amino acid D on the hemagglutinin protein\n",
            "Important position 17 corresponds to amino acid V on the hemagglutinin protein\n",
            "Important position 392 corresponds to amino acid P on the hemagglutinin protein\n",
            "Important position 58 corresponds to amino acid W on the hemagglutinin protein\n",
            "Important position 211 corresponds to amino acid N on the hemagglutinin protein\n",
            "Important position 87 corresponds to amino acid I on the hemagglutinin protein\n",
            "Important position 173 corresponds to amino acid Q on the hemagglutinin protein\n",
            "Important position 182 corresponds to amino acid D on the hemagglutinin protein\n",
            "Important position 327 corresponds to amino acid I on the hemagglutinin protein\n",
            "Important position 124 corresponds to amino acid F on the hemagglutinin protein\n",
            "Important position 121 corresponds to amino acid C on the hemagglutinin protein\n",
            "Important position 162 corresponds to amino acid D on the hemagglutinin protein\n",
            "Important position 300 corresponds to amino acid A on the hemagglutinin protein\n",
            "Important position 263 corresponds to amino acid E on the hemagglutinin protein\n",
            "Important position 185 corresponds to amino acid G on the hemagglutinin protein\n",
            "Important position 0 corresponds to amino acid A on the hemagglutinin protein\n",
            "Important position 78 corresponds to amino acid W on the hemagglutinin protein\n",
            "Important position 296 corresponds to amino acid T on the hemagglutinin protein\n",
            "Important position 252 corresponds to amino acid P on the hemagglutinin protein\n",
            "Important position 82 corresponds to amino acid D on the hemagglutinin protein\n",
            "Important position 350 corresponds to amino acid M on the hemagglutinin protein\n",
            "Important position 196 corresponds to amino acid T on the hemagglutinin protein\n",
            "Important position 255 corresponds to amino acid S on the hemagglutinin protein\n",
            "Important position 347 corresponds to amino acid I on the hemagglutinin protein\n",
            "Important position 159 corresponds to amino acid Y on the hemagglutinin protein\n",
            "Important position 60 corresponds to amino acid A on the hemagglutinin protein\n",
            "Important position 376 corresponds to amino acid T on the hemagglutinin protein\n",
            "Important position 171 corresponds to amino acid N on the hemagglutinin protein\n",
            "Important position 244 corresponds to amino acid F on the hemagglutinin protein\n",
            "Important position 247 corresponds to amino acid I on the hemagglutinin protein\n",
            "Important position 10 corresponds to amino acid M on the hemagglutinin protein\n",
            "Important position 363 corresponds to amino acid E on the hemagglutinin protein\n",
            "Important position 364 corresponds to amino acid F on the hemagglutinin protein\n",
            "Important position 79 corresponds to amino acid Y on the hemagglutinin protein\n",
            "Important position 322 corresponds to amino acid D on the hemagglutinin protein\n",
            "Important position 132 corresponds to amino acid P on the hemagglutinin protein\n",
            "Important position 349 corresponds to amino acid L on the hemagglutinin protein\n",
            "Important position 248 corresponds to amino acid K on the hemagglutinin protein\n",
            "Important position 385 corresponds to amino acid G on the hemagglutinin protein\n",
            "Important position 339 corresponds to amino acid Y on the hemagglutinin protein\n",
            "Important position 372 corresponds to amino acid P on the hemagglutinin protein\n",
            "Important position 214 corresponds to amino acid R on the hemagglutinin protein\n",
            "Important position 254 corresponds to amino acid R on the hemagglutinin protein\n",
            "Important position 126 corresponds to amino acid H on the hemagglutinin protein\n",
            "Important position 210 corresponds to amino acid M on the hemagglutinin protein\n",
            "Important position 57 corresponds to amino acid V on the hemagglutinin protein\n",
            "Important position 318 corresponds to amino acid W on the hemagglutinin protein\n",
            "Important position 8 corresponds to amino acid K on the hemagglutinin protein\n",
            "Important position 123 corresponds to amino acid E on the hemagglutinin protein\n",
            "Important position 157 corresponds to amino acid V on the hemagglutinin protein\n",
            "Important position 198 corresponds to amino acid W on the hemagglutinin protein\n",
            "Important position 220 corresponds to amino acid A on the hemagglutinin protein\n",
            "Important position 18 corresponds to amino acid W on the hemagglutinin protein\n",
            "Important position 341 corresponds to amino acid C on the hemagglutinin protein\n",
            "Important position 366 corresponds to amino acid H on the hemagglutinin protein\n",
            "Important position 191 corresponds to amino acid N on the hemagglutinin protein\n",
            "Important position 371 corresponds to amino acid N on the hemagglutinin protein\n",
            "Important position 362 corresponds to amino acid D on the hemagglutinin protein\n",
            "Important position 262 corresponds to amino acid D on the hemagglutinin protein\n",
            "Important position 384 corresponds to amino acid F on the hemagglutinin protein\n",
            "Important position 370 corresponds to amino acid M on the hemagglutinin protein\n",
            "Important position 168 corresponds to amino acid K on the hemagglutinin protein\n",
            "Important position 174 corresponds to amino acid R on the hemagglutinin protein\n",
            "Important position 160 corresponds to amino acid A on the hemagglutinin protein\n",
            "Important position 304 corresponds to amino acid F on the hemagglutinin protein\n",
            "Important position 164 corresponds to amino acid F on the hemagglutinin protein\n",
            "Important position 16 corresponds to amino acid T on the hemagglutinin protein\n",
            "Important position 354 corresponds to amino acid R on the hemagglutinin protein\n",
            "Important position 316 corresponds to amino acid T on the hemagglutinin protein\n",
            "Important position 86 corresponds to amino acid H on the hemagglutinin protein\n",
            "Important position 391 corresponds to amino acid N on the hemagglutinin protein\n",
            "Important position 250 corresponds to amino acid M on the hemagglutinin protein\n",
            "Important position 172 corresponds to amino acid P on the hemagglutinin protein\n",
            "Important position 257 corresponds to amino acid V on the hemagglutinin protein\n",
            "Important position 187 corresponds to amino acid I on the hemagglutinin protein\n",
            "Important position 193 corresponds to amino acid Q on the hemagglutinin protein\n",
            "Important position 337 corresponds to amino acid V on the hemagglutinin protein\n",
            "Important position 166 corresponds to amino acid H on the hemagglutinin protein\n",
            "Important position 342 corresponds to amino acid D on the hemagglutinin protein\n",
            "Important position 189 corresponds to amino acid L on the hemagglutinin protein\n",
            "Important position 131 corresponds to amino acid N on the hemagglutinin protein\n",
            "Important position 326 corresponds to amino acid H on the hemagglutinin protein\n",
            "Important position 344 corresponds to amino acid F on the hemagglutinin protein\n",
            "Important position 197 corresponds to amino acid V on the hemagglutinin protein\n",
            "Important position 212 corresponds to amino acid P on the hemagglutinin protein\n",
            "Important position 261 corresponds to amino acid C on the hemagglutinin protein\n",
            "Important position 348 corresponds to amino acid K on the hemagglutinin protein\n",
            "Important position 130 corresponds to amino acid M on the hemagglutinin protein\n"
          ]
        }
      ]
    },
    {
      "cell_type": "code",
      "source": [],
      "metadata": {
        "id": "x3lgkPChM6NL"
      },
      "execution_count": null,
      "outputs": []
    }
  ]
}